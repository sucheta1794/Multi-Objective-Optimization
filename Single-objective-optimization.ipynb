{
 "cells": [
  {
   "cell_type": "code",
   "execution_count": 1,
   "id": "659aa53c-e8bf-407c-9a32-4af1da245341",
   "metadata": {},
   "outputs": [],
   "source": [
    "import pygad\n",
    "import numpy as np\n",
    "import pandas as pd\n",
    "import matplotlib.pyplot as plt\n",
    "import warnings\n",
    "warnings.filterwarnings('ignore')"
   ]
  },
  {
   "cell_type": "code",
   "execution_count": 2,
   "id": "ab51f4fc-8c5c-49c9-b4f5-6bd4717961ec",
   "metadata": {},
   "outputs": [],
   "source": [
    "## Declare variables for data store\n",
    "n_gen = []             ## stores num of generations\n",
    "gen_x = []             ## stores solutions or features \n",
    "gen_y = []             ## stores target values\n",
    "parents = []           ## store parents\n",
    "off_cross = []         ## store crossover offspring\n",
    "off_mut = []           ## store mutation offspring\n",
    "last_fitness = 0"
   ]
  },
  {
   "cell_type": "code",
   "execution_count": 3,
   "id": "adfbd0b8-8a68-4ce5-9e48-46315a2c0b03",
   "metadata": {},
   "outputs": [],
   "source": [
    "## Input array of data\n",
    "x = np.array([[1,2,3,1],[2,3,1,0],[2,2,0,0],[0,5,2,1],[7,1,2,3],\n",
    "               [4,3,5,0],[5,2,1,5],[1,2,0,2],[3,0,5,5],[1,1,4,1]])"
   ]
  },
  {
   "cell_type": "code",
   "execution_count": 4,
   "id": "4d35376e-2ec8-4de6-80a6-04ac5ec73744",
   "metadata": {},
   "outputs": [
    {
     "name": "stdout",
     "output_type": "stream",
     "text": [
      "Initial population: \n",
      " [[1 2 3 1]\n",
      " [2 3 1 0]\n",
      " [2 2 0 0]\n",
      " [0 5 2 1]\n",
      " [7 1 2 3]\n",
      " [4 3 5 0]\n",
      " [5 2 1 5]\n",
      " [1 2 0 2]\n",
      " [3 0 5 5]\n",
      " [1 1 4 1]]\n"
     ]
    }
   ],
   "source": [
    "print (f\"Initial population: \\n {x}\")\n"
   ]
  },
  {
   "cell_type": "code",
   "execution_count": 5,
   "id": "240089b1-9d6e-4c6c-8098-06fa89c82574",
   "metadata": {},
   "outputs": [],
   "source": [
    "## single-objective fitness function\n",
    "def fitness(genetic, solution, sol_idx):\n",
    "    # rez1 = np.power(solution,2).sum()       ## maximize the sum of squares as fitness functions\n",
    "    rez1 = solution.sum()                     ## maximize the sum of entries as fitness functions\n",
    "    # print (rez)\n",
    "    return rez1                              \n",
    "\n",
    "## Parents selected function\n",
    "def on_parents(genetic, selected_parents):\n",
    "    global parents\n",
    "    # print (\"\\n ***Parents selected****\")\n",
    "    print(f\"Selected parents = \\n {selected_parents}\")\n",
    "    parents.append(selected_parents)\n",
    "\n",
    "## Data for each generation -------------------------------------------    \n",
    "def on_generation(genetic):\n",
    "    global n_gen, gen_x,gen_y                     ## Define a global variable\n",
    "    global last_fitness\n",
    "    \n",
    "    print(\"Generation = \", genetic.generations_completed)\n",
    "    # print(f\"Fitness    = {genetic.best_solution(pop_fitness=genetic.last_generation_fitness)[1]}\")\n",
    "    # print(f\"Change     = {genetic.best_solution(pop_fitness=genetic.last_generation_fitness)[1] - last_fitness}\")\n",
    "    # print (f\"Population  = \\n {genetic.population}\")\n",
    "    \n",
    "    n_gen.append(genetic.generations_completed)  ## append solutions to a list\n",
    "    gen_x.append(genetic.solutions)\n",
    "    gen_y.append(genetic.solutions_fitness)\n",
    "    \n",
    "    last_fitness = genetic.best_solution(pop_fitness=genetic.last_generation_fitness)[1]\n",
    "\n",
    "## Crossover function\n",
    "def on_crossover(ga_instance, offspring_crossover):\n",
    "    global off_cross\n",
    "    off_cross.append(offspring_crossover)\n",
    "    print(\"on_crossover() \\n\",  offspring_crossover)\n",
    "\n",
    "## Mutation function\n",
    "def on_mutation(ga_instance, offspring_mutation):\n",
    "    global off_mut\n",
    "    off_mut.append(offspring_mutation)\n",
    "    print(\"on_mutation() \\n\", offspring_mutation)\n",
    "    \n",
    "## Stopping criteria \n",
    "def on_stop(ga_instanse, last_gen_fitness):\n",
    "    print(\"on_stop\")\n"
   ]
  },
  {
   "cell_type": "code",
   "execution_count": 6,
   "id": "fe0909db-1cc3-4bd5-b6d1-0974a36e3d65",
   "metadata": {},
   "outputs": [],
   "source": [
    "genetic = pygad.GA( num_generations= 5,\n",
    "                    num_parents_mating = 2,\n",
    "                    \n",
    "                    fitness_func = fitness,\n",
    "                    initial_population = x,\n",
    "                    \n",
    "                    parent_selection_type = \"sss\",  ## single-objective\n",
    "                    # K_tournament = 5,\n",
    "                    \n",
    "                    crossover_type = 'single_point',\n",
    "                    on_crossover = on_crossover,\n",
    "                    \n",
    "                    mutation_type = 'random',\n",
    "                    on_mutation = on_mutation,\n",
    "                    \n",
    "                    on_generation= on_generation,\n",
    "                    on_parents= on_parents,\n",
    "                    \n",
    "                    save_solutions= True,            ## all solutions in each generation are appended into an attribute called solutions\n",
    "                    save_best_solutions= True,       ## best solution after each generation is saved into an attribute named best_solutions\n",
    "                    gene_type = [float, 3],\n",
    "                    \n",
    "                    random_seed = 123)                  ## reproducible results\n"
   ]
  },
  {
   "cell_type": "code",
   "execution_count": 7,
   "id": "06104ec8-33d3-43c4-860a-19a3dcdd3aa7",
   "metadata": {},
   "outputs": [
    {
     "name": "stdout",
     "output_type": "stream",
     "text": [
      "Selected parents = \n",
      " [[3. 0. 5. 5.]\n",
      " [5. 2. 1. 5.]]\n",
      "on_crossover() \n",
      " [[3. 0. 1. 5.]\n",
      " [5. 0. 5. 5.]\n",
      " [3. 0. 1. 5.]\n",
      " [5. 2. 5. 5.]\n",
      " [5. 2. 1. 5.]\n",
      " [5. 2. 5. 5.]\n",
      " [3. 0. 1. 5.]\n",
      " [5. 0. 5. 5.]\n",
      " [3. 0. 5. 5.]]\n",
      "on_mutation() \n",
      " [[2.982 0.    1.    5.   ]\n",
      " [5.    0.    5.56  5.   ]\n",
      " [2.822 0.    1.    5.   ]\n",
      " [5.    2.    5.    5.159]\n",
      " [5.    2.    0.28  5.   ]\n",
      " [4.802 2.    5.    5.   ]\n",
      " [3.255 0.    1.    5.   ]\n",
      " [5.    0.    5.    4.648]\n",
      " [3.    0.    4.49  5.   ]]\n",
      "Generation =  1\n",
      "Selected parents = \n",
      " [[5.    2.    5.    5.159]\n",
      " [4.802 2.    5.    5.   ]]\n",
      "on_crossover() \n",
      " [[4.802 2.    5.    5.   ]\n",
      " [5.    2.    5.    5.159]\n",
      " [4.802 2.    5.    5.   ]\n",
      " [5.    2.    5.    5.159]\n",
      " [5.    2.    5.    5.   ]\n",
      " [4.802 2.    5.    5.159]\n",
      " [5.    2.    5.    5.   ]\n",
      " [4.802 2.    5.    5.159]\n",
      " [4.802 2.    5.    5.   ]]\n",
      "on_mutation() \n",
      " [[4.802 2.    5.063 5.   ]\n",
      " [5.064 2.    5.    5.159]\n",
      " [4.802 2.269 5.    5.   ]\n",
      " [5.    2.699 5.    5.159]\n",
      " [5.    2.    5.449 5.   ]\n",
      " [4.802 2.    5.222 5.159]\n",
      " [5.    2.445 5.    5.   ]\n",
      " [4.802 1.646 5.    5.159]\n",
      " [4.526 2.    5.    5.   ]]\n",
      "Generation =  2\n",
      "Selected parents = \n",
      " [[5.    2.699 5.    5.159]\n",
      " [5.    2.    5.449 5.   ]]\n",
      "on_crossover() \n",
      " [[5.    2.699 5.    5.   ]\n",
      " [5.    2.    5.    5.159]\n",
      " [5.    2.    5.449 5.   ]\n",
      " [5.    2.699 5.    5.159]\n",
      " [5.    2.    5.449 5.   ]\n",
      " [5.    2.    5.449 5.159]\n",
      " [5.    2.699 5.449 5.   ]\n",
      " [5.    2.699 5.    5.159]\n",
      " [5.    2.    5.449 5.   ]]\n",
      "on_mutation() \n",
      " [[5.    2.699 5.    4.056]\n",
      " [4.348 2.    5.    5.159]\n",
      " [5.    2.    5.449 4.308]\n",
      " [4.154 2.699 5.    5.159]\n",
      " [5.78  2.    5.449 5.   ]\n",
      " [5.    2.    5.95  5.159]\n",
      " [5.    2.699 5.449 5.387]\n",
      " [5.024 2.699 5.    5.159]\n",
      " [4.929 2.    5.449 5.   ]]\n",
      "Generation =  3\n",
      "Selected parents = \n",
      " [[5.    2.699 5.449 5.387]\n",
      " [5.78  2.    5.449 5.   ]]\n",
      "on_crossover() \n",
      " [[5.    2.699 5.449 5.   ]\n",
      " [5.    2.699 5.449 5.387]\n",
      " [5.    2.699 5.449 5.   ]\n",
      " [5.78  2.    5.449 5.387]\n",
      " [5.    2.699 5.449 5.   ]\n",
      " [5.    2.699 5.449 5.387]\n",
      " [5.    2.699 5.449 5.   ]\n",
      " [5.78  2.    5.449 5.387]\n",
      " [5.    2.699 5.449 5.   ]]\n",
      "on_mutation() \n",
      " [[4.501 2.699 5.449 5.   ]\n",
      " [5.    2.665 5.449 5.387]\n",
      " [5.    3.67  5.449 5.   ]\n",
      " [5.819 2.    5.449 5.387]\n",
      " [5.    2.699 5.675 5.   ]\n",
      " [5.    2.699 5.449 4.628]\n",
      " [5.    2.699 5.449 5.653]\n",
      " [5.78  2.    5.655 5.387]\n",
      " [5.    2.699 5.449 5.09 ]]\n",
      "Generation =  4\n",
      "Selected parents = \n",
      " [[5.    3.67  5.449 5.   ]\n",
      " [5.78  2.    5.655 5.387]]\n",
      "on_crossover() \n",
      " [[5.    2.    5.655 5.387]\n",
      " [5.    3.67  5.449 5.   ]\n",
      " [5.78  2.    5.655 5.387]\n",
      " [5.78  2.    5.655 5.   ]\n",
      " [5.    2.    5.655 5.387]\n",
      " [5.78  2.    5.449 5.   ]\n",
      " [5.    3.67  5.449 5.387]\n",
      " [5.78  2.    5.655 5.   ]\n",
      " [5.    3.67  5.449 5.387]]\n",
      "on_mutation() \n",
      " [[4.536 2.    5.655 5.387]\n",
      " [5.    3.67  5.362 5.   ]\n",
      " [5.78  2.    5.192 5.387]\n",
      " [5.78  2.    5.655 5.674]\n",
      " [5.    1.541 5.655 5.387]\n",
      " [5.78  2.    5.509 5.   ]\n",
      " [4.351 3.67  5.449 5.387]\n",
      " [5.78  2.    5.655 4.63 ]\n",
      " [5.    3.67  5.449 6.169]]\n",
      "Generation =  5\n"
     ]
    }
   ],
   "source": [
    "genetic.run()"
   ]
  },
  {
   "cell_type": "code",
   "execution_count": 8,
   "id": "3e8395b2-e378-42e1-b229-6f5d942805fa",
   "metadata": {},
   "outputs": [
    {
     "name": "stdout",
     "output_type": "stream",
     "text": [
      "Parameters of the best solution : [5.    3.67  5.449 6.169]\n",
      "Fitness value of the best solution = 20.288\n",
      "Index of the best solution : 9\n"
     ]
    }
   ],
   "source": [
    "solution, solution_fitness, solution_idx = genetic.best_solution(genetic.last_generation_fitness)\n",
    "print(f\"Parameters of the best solution : {solution}\")\n",
    "print(f\"Fitness value of the best solution = {solution_fitness}\")\n",
    "print(f\"Index of the best solution : {solution_idx}\")\n"
   ]
  },
  {
   "cell_type": "code",
   "execution_count": 9,
   "id": "99f351af-edbf-4b90-83dc-edeb499c00ce",
   "metadata": {},
   "outputs": [
    {
     "data": {
      "image/png": "[encoded data removed]",
      "text/plain": [
       "<Figure size 640x480 with 1 Axes>"
      ]
     },
     "metadata": {},
     "output_type": "display_data"
    },
    {
     "data": {
      "image/png": "[encoded data removed]",
      "text/plain": [
       "<Figure size 640x480 with 1 Axes>"
      ]
     },
     "execution_count": 9,
     "metadata": {},
     "output_type": "execute_result"
    }
   ],
   "source": [
    "genetic.plot_fitness(label=['Objective'])"
   ]
  },
  {
   "cell_type": "code",
   "execution_count": null,
   "id": "0f78429c-593f-4eb7-8ec0-e23f1ca9c807",
   "metadata": {},
   "outputs": [],
   "source": []
  }
 ],
 "metadata": {
  "kernelspec": {
   "display_name": "Python 3 (ipykernel)",
   "language": "python",
   "name": "python3"
  },
  "language_info": {
   "codemirror_mode": {
    "name": "ipython",
    "version": 3
   },
   "file_extension": ".py",
   "mimetype": "text/x-python",
   "name": "python",
   "nbconvert_exporter": "python",
   "pygments_lexer": "ipython3",
   "version": "3.12.5"
  }
 },
 "nbformat": 4,
 "nbformat_minor": 5
}
